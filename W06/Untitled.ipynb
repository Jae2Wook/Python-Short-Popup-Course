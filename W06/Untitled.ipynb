{
 "cells": [
  {
   "cell_type": "markdown",
   "metadata": {},
   "source": [
    "import pandas as pd"
   ]
  },
  {
   "cell_type": "markdown",
   "metadata": {},
   "source": [
    "data = pd.read_csv(\"file path with a raw url\", names = ['data', 'cpi'])"
   ]
  },
  {
   "cell_type": "markdown",
   "metadata": {},
   "source": [
    "when a raw url has backslashes \\\n",
    "data = pd.read_csv(r \" \", names= ['',''])"
   ]
  },
  {
   "cell_type": "markdown",
   "metadata": {},
   "source": [
    "myfile = (\" \", names = ['Date', ' '])\\\n",
    "Date = np.array(myfile['Date'], dtype = np.datetime64)\\\n",
    "print(Date)"
   ]
  },
  {
   "cell_type": "markdown",
   "metadata": {},
   "source": [
    "or"
   ]
  },
  {
   "cell_type": "markdown",
   "metadata": {},
   "source": [
    "myfile = pd.read_csv(\"  \", names = ['Date', ' '])\\\n",
    "myfile['Date] = pd.to_datetime(myfile['Date'])\\\n",
    "print(myfile['Date])"
   ]
  }
 ],
 "metadata": {
  "kernelspec": {
   "display_name": "Python 3",
   "language": "python",
   "name": "python3"
  },
  "language_info": {
   "codemirror_mode": {
    "name": "ipython",
    "version": 3
   },
   "file_extension": ".py",
   "mimetype": "text/x-python",
   "name": "python",
   "nbconvert_exporter": "python",
   "pygments_lexer": "ipython3",
   "version": "3.7.4"
  }
 },
 "nbformat": 4,
 "nbformat_minor": 4
}
