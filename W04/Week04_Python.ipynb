{
 "cells": [
  {
   "cell_type": "markdown",
   "metadata": {},
   "source": [
    "# Python Homework 4: Dictionaries and Dataframes\n",
    "\n",
    "This homework is designed to get you familiar with Dictionaries and Dataframes. Before completing this homework, make sure you have read everything under Week 4 in the Python Guide (sections 5.4-6)."
   ]
  },
  {
   "cell_type": "markdown",
   "metadata": {},
   "source": [
    "## Q1) Create a Dictionary"
   ]
  },
  {
   "cell_type": "markdown",
   "metadata": {},
   "source": [
    "Create a dictionary out of the three lists provided below. Print the dictionary. *Remember: dictionaries do not have any organized shape, so your dictionary will not look good when printed.*"
   ]
  },
  {
   "cell_type": "code",
   "execution_count": 9,
   "metadata": {},
   "outputs": [
    {
     "name": "stdout",
     "output_type": "stream",
     "text": [
      "{'Name': ['John', 'Mary', 'Ilse', 'Ben', 'Frank'], 'Height': [70, 65, 67, 72, 77], 'Weight': [180, 140, 160, 195, 167]}\n"
     ]
    }
   ],
   "source": [
    "name = [\"John\", \"Mary\", \"Ilse\", \"Ben\", \"Frank\"]\n",
    "height = [70, 65, 67, 72, 77]\n",
    "weight = [180, 140, 160, 195, 167]\n",
    "\n",
    "Dictionary = {'Name': name, 'Height': height, 'Weight': weight}\n",
    "print(Dictionary)\n"
   ]
  },
  {
   "cell_type": "markdown",
   "metadata": {},
   "source": [
    "## Q2) Dataframes"
   ]
  },
  {
   "cell_type": "markdown",
   "metadata": {},
   "source": [
    "**(a)** Import the pandas package as pd"
   ]
  },
  {
   "cell_type": "code",
   "execution_count": null,
   "metadata": {},
   "outputs": [],
   "source": [
    "import pandas as pd"
   ]
  },
  {
   "cell_type": "markdown",
   "metadata": {},
   "source": [
    "**(b)** Convert your dictionary to a DataFrame. Print your DataFrame."
   ]
  },
  {
   "cell_type": "code",
   "execution_count": 10,
   "metadata": {},
   "outputs": [
    {
     "name": "stdout",
     "output_type": "stream",
     "text": [
      "    Name  Height  Weight\n",
      "0   John      70     180\n",
      "1   Mary      65     140\n",
      "2   Ilse      67     160\n",
      "3    Ben      72     195\n",
      "4  Frank      77     167\n"
     ]
    }
   ],
   "source": [
    "df = pd.DataFrame(Dictionary)\n",
    "print(df)"
   ]
  },
  {
   "cell_type": "markdown",
   "metadata": {},
   "source": [
    "**(c)** Now add a column to your DataFrame that is called BMI. To calculate BMI, use this equation:\n",
    "\n",
    "$$\n",
    "\\frac{705 * weight}{height^{2}}\n",
    "$$\n",
    "\n",
    "Be sure to print your DataFrame when you are done.\n"
   ]
  },
  {
   "cell_type": "code",
   "execution_count": 13,
   "metadata": {},
   "outputs": [
    {
     "name": "stdout",
     "output_type": "stream",
     "text": [
      "    Name  Height  Weight        BMI\n",
      "0   John      70     180  25.897959\n",
      "1   Mary      65     140  23.360947\n",
      "2   Ilse      67     160  25.128091\n",
      "3    Ben      72     195  26.519097\n",
      "4  Frank      77     167  19.857480\n"
     ]
    }
   ],
   "source": [
    "df['BMI'] = (705 * df['Weight']) / df['Height']**2\n",
    "print(df)"
   ]
  },
  {
   "cell_type": "markdown",
   "metadata": {},
   "source": [
    "## Q3) Empty column"
   ]
  },
  {
   "cell_type": "markdown",
   "metadata": {},
   "source": [
    "Now, repeat all the steps you did in **Q1)** and **Q2)**, but this time with an empty BMI array that you have to fill after converting it to a DataFrame. Print your DataFrame both before and after you fill the empty BMI column."
   ]
  },
  {
   "cell_type": "code",
   "execution_count": 14,
   "metadata": {},
   "outputs": [
    {
     "name": "stdout",
     "output_type": "stream",
     "text": [
      "    Name  Height  Weight BMI\n",
      "0   John      70     180    \n",
      "1   Mary      65     140    \n",
      "2   Ilse      67     160    \n",
      "3    Ben      72     195    \n",
      "4  Frank      77     167    \n"
     ]
    }
   ],
   "source": [
    "name = [\"John\", \"Mary\", \"Ilse\", \"Ben\", \"Frank\"]\n",
    "height = [70, 65, 67, 72, 77]\n",
    "weight = [180, 140, 160, 195, 167]\n",
    "bmi = [\"\", \"\", \"\", \"\", \"\"]\n",
    "\n",
    "#Make sure you include the empty BMI list in your dictionary/DataFrame\n",
    "\n",
    "Dictionary1 = {'Name': name, 'Height': height, 'Weight': weight, 'BMI': bmi}\n",
    "df1 = pd.DataFrame(Dictionary1)\n",
    "print(df1)"
   ]
  },
  {
   "cell_type": "code",
   "execution_count": 15,
   "metadata": {},
   "outputs": [
    {
     "name": "stdout",
     "output_type": "stream",
     "text": [
      "    Name  Height  Weight        BMI\n",
      "0   John      70     180  25.897959\n",
      "1   Mary      65     140  23.360947\n",
      "2   Ilse      67     160  25.128091\n",
      "3    Ben      72     195  26.519097\n",
      "4  Frank      77     167  19.857480\n"
     ]
    }
   ],
   "source": [
    "df1['BMI'] = (705*df1['Weight']) / df1['Height']**2\n",
    "print(df1)"
   ]
  },
  {
   "cell_type": "markdown",
   "metadata": {},
   "source": [
    "## Saving and Exporting\n",
    "\n",
    "Save your notebook, name the file, download as an HTML file, and turn it in on Canvas."
   ]
  }
 ],
 "metadata": {
  "kernelspec": {
   "display_name": "Python 3",
   "language": "python",
   "name": "python3"
  },
  "language_info": {
   "codemirror_mode": {
    "name": "ipython",
    "version": 3
   },
   "file_extension": ".py",
   "mimetype": "text/x-python",
   "name": "python",
   "nbconvert_exporter": "python",
   "pygments_lexer": "ipython3",
   "version": "3.7.4"
  }
 },
 "nbformat": 4,
 "nbformat_minor": 4
}
