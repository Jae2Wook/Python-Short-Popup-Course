{
 "cells": [
  {
   "cell_type": "code",
   "execution_count": 1,
   "metadata": {},
   "outputs": [],
   "source": [
    "import pandas as pd\n",
    "\n",
    "names = ['United States', 'Canada', 'France', 'United Kingdom', 'Italy', 'Germany']\n",
    "GDP = [51958, 43376, 37360, 38083, 34876, 45320]\n",
    "Pop = [327, 37, 67, 66, 60, 83]\n",
    "my_dictionary = {'Country' : names, 'GDP' : GDP, 'Population' : Pop}"
   ]
  },
  {
   "cell_type": "code",
   "execution_count": 2,
   "metadata": {},
   "outputs": [
    {
     "name": "stdout",
     "output_type": "stream",
     "text": [
      "          Country    GDP  Population\n",
      "0   United States  51958         327\n",
      "1          Canada  43376          37\n",
      "2          France  37360          67\n",
      "3  United Kingdom  38083          66\n",
      "4           Italy  34876          60\n",
      "5         Germany  45320          83\n"
     ]
    }
   ],
   "source": [
    "my_df = pd.DataFrame(my_dictionary)\n",
    "print(my_df)"
   ]
  },
  {
   "cell_type": "code",
   "execution_count": 3,
   "metadata": {},
   "outputs": [
    {
     "name": "stdout",
     "output_type": "stream",
     "text": [
      "          Country  GDP per capita  Population(in Millions)\n",
      "0   United States           51958                      327\n",
      "1          Canada           43376                       37\n",
      "2          France           37360                       67\n",
      "3  United Kingdom           38083                       66\n",
      "4           Italy           34876                       60\n",
      "5         Germany           45320                       83\n"
     ]
    }
   ],
   "source": [
    "my_df1 = pd.DataFrame({'Country' : names, 'GDP per capita' : GDP, 'Population(in Millions)' : Pop})\n",
    "print(my_df1)"
   ]
  },
  {
   "cell_type": "code",
   "execution_count": 4,
   "metadata": {},
   "outputs": [
    {
     "name": "stdout",
     "output_type": "stream",
     "text": [
      "0    16990266\n",
      "1     1604912\n",
      "2     2503120\n",
      "3     2513478\n",
      "4     2092560\n",
      "5     3761560\n",
      "dtype: int64\n"
     ]
    }
   ],
   "source": [
    "GDPtot = my_df1['GDP per capita'] * my_df['Population']\n",
    "print(GDPtot)"
   ]
  },
  {
   "cell_type": "code",
   "execution_count": 5,
   "metadata": {},
   "outputs": [
    {
     "name": "stdout",
     "output_type": "stream",
     "text": [
      "          Country  GDP per capita  Population(in Millions)  GDP total\n",
      "0   United States           51958                      327   16990266\n",
      "1          Canada           43376                       37    1604912\n",
      "2          France           37360                       67    2503120\n",
      "3  United Kingdom           38083                       66    2513478\n",
      "4           Italy           34876                       60    2092560\n",
      "5         Germany           45320                       83    3761560\n"
     ]
    }
   ],
   "source": [
    "my_df1['GDP total'] = GDPtot\n",
    "print(my_df1)"
   ]
  },
  {
   "cell_type": "code",
   "execution_count": 6,
   "metadata": {},
   "outputs": [
    {
     "name": "stdout",
     "output_type": "stream",
     "text": [
      "          Country  GDP per capita  Population (in Millions) GDP (in Millions)\n",
      "0   United States           51958                       327                  \n",
      "1          Canada           43376                        37                  \n",
      "2          France           37460                        67                  \n",
      "3  United Kingdom           39083                        66                  \n",
      "4           Italy           34876                        60                  \n",
      "5         Germany           45320                        83                  \n"
     ]
    }
   ],
   "source": [
    "names = ['United States', 'Canada', 'France', 'United Kingdom', 'Italy', 'Germany']\n",
    "GDP = [51958, 43376, 37460, 39083, 34876, 45320]\n",
    "Pop = [327, 37, 67, 66, 60, 83]\n",
    "GDPtot = [\"\",\"\",\"\",\"\",\"\",\"\"]\n",
    "my_df2 = pd.DataFrame({'Country' : names, 'GDP per capita' : GDP, 'Population (in Millions)' : Pop, 'GDP (in Millions)' : GDPtot})\n",
    "print(my_df2)"
   ]
  },
  {
   "cell_type": "code",
   "execution_count": 7,
   "metadata": {},
   "outputs": [
    {
     "name": "stdout",
     "output_type": "stream",
     "text": [
      "          Country  GDP per capita  Population (in Millions)  GDP (in Millions)\n",
      "0   United States           51958                       327           16990266\n",
      "1          Canada           43376                        37            1604912\n",
      "2          France           37460                        67            2509820\n",
      "3  United Kingdom           39083                        66            2579478\n",
      "4           Italy           34876                        60            2092560\n",
      "5         Germany           45320                        83            3761560\n"
     ]
    }
   ],
   "source": [
    "GDPtot = my_df2['GDP per capita'] * my_df2['Population (in Millions)']\n",
    "my_df2['GDP (in Millions)'] = GDPtot\n",
    "print(my_df2)"
   ]
  }
 ],
 "metadata": {
  "kernelspec": {
   "display_name": "Python 3",
   "language": "python",
   "name": "python3"
  },
  "language_info": {
   "codemirror_mode": {
    "name": "ipython",
    "version": 3
   },
   "file_extension": ".py",
   "mimetype": "text/x-python",
   "name": "python",
   "nbconvert_exporter": "python",
   "pygments_lexer": "ipython3",
   "version": "3.7.4"
  }
 },
 "nbformat": 4,
 "nbformat_minor": 4
}
