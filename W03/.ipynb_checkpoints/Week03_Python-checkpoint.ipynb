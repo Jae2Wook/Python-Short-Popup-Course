{
 "cells": [
  {
   "cell_type": "markdown",
   "metadata": {},
   "source": [
    "# Python Homework #3: Plotting"
   ]
  },
  {
   "cell_type": "markdown",
   "metadata": {},
   "source": [
    "This assignment will give you a basic understanding of plotting. Before completing this homework, make sure you have read everything under Week 3 in the Python Guide (sections 5.3-5.4)."
   ]
  },
  {
   "cell_type": "markdown",
   "metadata": {},
   "source": [
    "## Q1) Line Plot"
   ]
  },
  {
   "cell_type": "markdown",
   "metadata": {},
   "source": [
    "Before you plot anything, make sure that you import Matplotlib.pyplot as plt and NumPy as np."
   ]
  },
  {
   "cell_type": "code",
   "execution_count": 2,
   "metadata": {},
   "outputs": [],
   "source": []
  },
  {
   "cell_type": "markdown",
   "metadata": {},
   "source": [
    "Plot these two arrays."
   ]
  },
  {
   "cell_type": "code",
   "execution_count": 2,
   "metadata": {},
   "outputs": [],
   "source": [
    "x = np.array([0, 1, 2, 3, 4, 5])\n",
    "y = np.array([0, 2, 4, 6, 8, 10])"
   ]
  },
  {
   "cell_type": "markdown",
   "metadata": {},
   "source": [
    "Now, plot two lines on the same plot using these arrays."
   ]
  },
  {
   "cell_type": "code",
   "execution_count": null,
   "metadata": {},
   "outputs": [],
   "source": [
    "x = np.array([0, 1, 2, 3, 4, 5])\n",
    "y1 = np.array([0, 2, 4, 6, 8, 10])\n",
    "y2 = np.array([0, 1, 2, 3, 4, 5])"
   ]
  },
  {
   "cell_type": "markdown",
   "metadata": {},
   "source": [
    "## Q2) Scatter Plot"
   ]
  },
  {
   "cell_type": "markdown",
   "metadata": {},
   "source": [
    "Plot these arrays as a scatter plot."
   ]
  },
  {
   "cell_type": "code",
   "execution_count": 7,
   "metadata": {},
   "outputs": [],
   "source": [
    "x = np.array([0, 1, 2, 3, 4, 5])\n",
    "y = np.array([0, 2, 4, 6, 8, 10])"
   ]
  },
  {
   "cell_type": "markdown",
   "metadata": {},
   "source": [
    "## Q3) Histogram"
   ]
  },
  {
   "cell_type": "markdown",
   "metadata": {},
   "source": [
    "Create a histogram with 5 bins using the array below."
   ]
  },
  {
   "cell_type": "code",
   "execution_count": null,
   "metadata": {},
   "outputs": [],
   "source": [
    "hist = np.array([1, 2, 2, 3, 3, 3, 4, 4, 5])"
   ]
  },
  {
   "cell_type": "markdown",
   "metadata": {},
   "source": [
    "## Q4) Customization\n",
    "Consider this growth equation: \n",
    "\n",
    "$$\n",
    "g = A(1 +r)^t\n",
    "$$\n",
    "\n",
    "You want to know how your money grows over time when the interest rate is 3% and when it is 6%. By creating a linspace array for time and plugging it into two different growth equations (one for each interest rate), you can show numerically how money grows over time at each interest rate. The code to do that is listed below. To see growth over time, simply print(growth1) and print(growth2)."
   ]
  },
  {
   "cell_type": "code",
   "execution_count": 6,
   "metadata": {},
   "outputs": [],
   "source": [
    "A =  100  \n",
    "r1 =  .03  \n",
    "r2 = .06\n",
    "t =  np.linspace( 0 , 100 , 1000)   \n",
    "growth1 =  A * ( 1  +  r1 )**t\n",
    "growth2 = A * (1 + r2) ** t"
   ]
  },
  {
   "cell_type": "markdown",
   "metadata": {},
   "source": [
    "Now it's time to create a graph with the information above. You will need to do the following:\n",
    "\n",
    "**(a)** Create a two-line plot graph. Plot time on the x-axis and growth on the y-axis. You should have one graph with two lines; one line for growth1 and the other line for growth2.\n",
    "\n",
    "**(b)** Make it a logarithmic scale. \n",
    "\n",
    "**(c)** Label the x-axis *Years* and the y-axis *Money.*\n",
    "\n",
    "**(d)** Name the graph *The Growth of Money With a 3\\% and 6\\% Interest Rate.*\n",
    "\n",
    "**(e)** Make the x-axis tick values 0, 50, and 100. \n",
    "\n",
    "**(f)** Make the y-axis tick values 100, 400, 2,000, 8,000, and 34,000. Label them 100, 400, 2k, 8k, 34k.\n",
    "\n",
    "**(g)** Change the growth1 line to olive green, and the growth2 line to firebrick red. *HINT: go to Google image search and type \"matplotlib colors.\" Click on the first image to see all the color options.*\n"
   ]
  },
  {
   "cell_type": "code",
   "execution_count": null,
   "metadata": {},
   "outputs": [],
   "source": []
  },
  {
   "cell_type": "markdown",
   "metadata": {},
   "source": [
    "## Saving and Exporting"
   ]
  },
  {
   "cell_type": "markdown",
   "metadata": {},
   "source": [
    "Save your notebook, name the file, download as an HTML file, and turn it in on Canvas."
   ]
  }
 ],
 "metadata": {
  "kernelspec": {
   "display_name": "Python 3",
   "language": "python",
   "name": "python3"
  },
  "language_info": {
   "codemirror_mode": {
    "name": "ipython",
    "version": 3
   },
   "file_extension": ".py",
   "mimetype": "text/x-python",
   "name": "python",
   "nbconvert_exporter": "python",
   "pygments_lexer": "ipython3",
   "version": "3.7.1"
  }
 },
 "nbformat": 4,
 "nbformat_minor": 2
}
