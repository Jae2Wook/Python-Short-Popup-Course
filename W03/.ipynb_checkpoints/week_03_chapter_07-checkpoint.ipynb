{
 "cells": [
  {
   "cell_type": "markdown",
   "metadata": {},
   "source": [
    "# Chapter 07 Exercises\n",
    "\n",
    "## Name goes here\n",
    "\n",
    "### Date"
   ]
  },
  {
   "cell_type": "code",
   "execution_count": 2,
   "metadata": {},
   "outputs": [],
   "source": [
    "# Libraries you will need for this assignment. \n",
    "# The code below will import them for your use. \n",
    "# Please run this before continuing.\n",
    "%matplotlib inline\n",
    "import numpy as np\n",
    "import pandas as pd\n",
    "from matplotlib.dates import DateFormatter\n",
    "import matplotlib.pyplot as plt\n",
    "import matplotlib.dates as mdates"
   ]
  },
  {
   "cell_type": "markdown",
   "metadata": {},
   "source": []
  },
  {
   "cell_type": "code",
   "execution_count": null,
   "metadata": {},
   "outputs": [],
   "source": []
  },
  {
   "cell_type": "markdown",
   "metadata": {},
   "source": [
    "## Q1) The employment-population ratio for men and women (a FRED question)\n",
    "\n",
    "Using the data below, answer the following questions:"
   ]
  },
  {
   "cell_type": "code",
   "execution_count": 4,
   "metadata": {},
   "outputs": [],
   "source": [
    "#Run this code to import the data sets\n",
    "#DO NOT CHANGE THIS CODE\n",
    "#This is the same code that is in your python homework #__\n",
    "\n",
    "# URL to first data set:\n",
    "men_url = \"https://raw.githubusercontent.com/dylanjm/econ_381_development/master/data/ch07_employment_ratio_men.csv\"\n",
    "\n",
    "# Import the data and save it to a variable:\n",
    "men = pd.read_csv(men_url, header = 0, names = [\"Date\", \"Ratio\"])\n",
    "\n",
    "# URL to second data set:\n",
    "women_url = \"https://raw.githubusercontent.com/dylanjm/econ_381_development/master/data/ch07_employment_ratio_women.csv\"\n",
    "\n",
    "# Import the data and save it to a variable:\n",
    "women = pd.read_csv(women_url, header = 0, names = [\"Date\", \"Ratio\"])\n"
   ]
  },
  {
   "cell_type": "markdown",
   "metadata": {},
   "source": [
    "__(a)__: Create **one** plot with **two** time-series, one for men and one for women. *Hint: in order to get your time series plot to look right, you will need to convert the date variable to a datetime object. I have done this below for the women's data set, and you will need to do it for the men's.* Be sure to include labels, a title, and a legend. You can see another example of this in your chapter 1 homework. "
   ]
  },
  {
   "cell_type": "code",
   "execution_count": 8,
   "metadata": {},
   "outputs": [
    {
     "data": {
      "image/png": "[encoded data removed]",
      "text/plain": [
       "<Figure size 432x288 with 1 Axes>"
      ]
     },
     "metadata": {
      "needs_background": "light"
     },
     "output_type": "display_data"
    }
   ],
   "source": [
    "WomenDate = np.array(women['Date'],dtype=np.datetime64)\n",
    "\n",
    "plt.plot(WomenDate, women[\"Ratio\"])\n",
    "plt.show()"
   ]
  },
  {
   "cell_type": "markdown",
   "metadata": {},
   "source": [
    "__(b)__: What are some possible explanations for the differences between the two series between 1950 and 2000?"
   ]
  },
  {
   "cell_type": "markdown",
   "metadata": {},
   "source": []
  },
  {
   "cell_type": "markdown",
   "metadata": {},
   "source": [
    "__(c)__: What might explain the change in the trend of women's employment since 2000?"
   ]
  },
  {
   "cell_type": "markdown",
   "metadata": {},
   "source": []
  },
  {
   "cell_type": "markdown",
   "metadata": {},
   "source": [
    "## Q2) How much is a college education worth?\n",
    "\n",
    "In the text, we supposed a college education raised a person's wage by \\\\$30,000 per year, from \\\\$40,000 to \\\\$70,000. Assume the relevant interest rate is 3\\%, there is no growth in wages, and you are expected to retire at 65 years old after you graduate high-school."
   ]
  },
  {
   "cell_type": "markdown",
   "metadata": {},
   "source": [
    "__(a)__: Suppose you are a 18 year old graduating high school senior deciding whether or not to go to college. What is the present discounted value of your labor earnings if you chose not to attend college? Calculate this by hand and input the answer below."
   ]
  },
  {
   "cell_type": "markdown",
   "metadata": {},
   "source": []
  },
  {
   "cell_type": "markdown",
   "metadata": {},
   "source": [
    "__(b)__ What is the present discounted value of your labor earnings if you chose to attend college? Calculate this by hand and input the answer below."
   ]
  },
  {
   "cell_type": "markdown",
   "metadata": {},
   "source": []
  },
  {
   "cell_type": "markdown",
   "metadata": {},
   "source": [
    "__(c)__ What is the present discounted value of 4 years of your labor income if you forgo college and start work immediately? Calculate this by hand and input the answer below."
   ]
  },
  {
   "cell_type": "markdown",
   "metadata": {},
   "source": []
  },
  {
   "cell_type": "markdown",
   "metadata": {},
   "source": [
    "__(d)__: Suppose that college costs \\\\$20,000 per year. What is the present discounted value of your college education expenses?"
   ]
  },
  {
   "cell_type": "code",
   "execution_count": null,
   "metadata": {},
   "outputs": [],
   "source": []
  },
  {
   "cell_type": "markdown",
   "metadata": {},
   "source": [
    "__(e)__: What is the net present discounted value of a college education under these assumptions? "
   ]
  },
  {
   "cell_type": "code",
   "execution_count": null,
   "metadata": {},
   "outputs": [],
   "source": []
  },
  {
   "cell_type": "markdown",
   "metadata": {},
   "source": [
    "__(f)__ Now, suppose that the relevant interest rate increases to 8\\%. How does that change the net present discounted value of your college education? What if instead the cost of attending college doubled? Please discuss your findings."
   ]
  },
  {
   "cell_type": "code",
   "execution_count": null,
   "metadata": {},
   "outputs": [],
   "source": []
  },
  {
   "cell_type": "markdown",
   "metadata": {},
   "source": []
  },
  {
   "cell_type": "markdown",
   "metadata": {},
   "source": [
    "__(g)__ Statistically, workers with higher education levels work longer than unskilled workers. Suppose that you only work until 60 years old if keep your highschool degree, but work until 65 years old if you get a college degree. How does differences in length of working life affect the net discounted value of your college education?"
   ]
  },
  {
   "cell_type": "code",
   "execution_count": null,
   "metadata": {},
   "outputs": [],
   "source": []
  },
  {
   "cell_type": "markdown",
   "metadata": {},
   "source": []
  }
 ],
 "metadata": {
  "kernelspec": {
   "display_name": "Python 3",
   "language": "python",
   "name": "python3"
  },
  "language_info": {
   "codemirror_mode": {
    "name": "ipython",
    "version": 3
   },
   "file_extension": ".py",
   "mimetype": "text/x-python",
   "name": "python",
   "nbconvert_exporter": "python",
   "pygments_lexer": "ipython3",
   "version": "3.7.1"
  }
 },
 "nbformat": 4,
 "nbformat_minor": 2
}
