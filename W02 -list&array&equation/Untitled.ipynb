{
 "cells": [
  {
   "cell_type": "markdown",
   "metadata": {},
   "source": [
    "(1) What does \"print\" function really do?   It prints out how it looks when it prints out the list, but when it comes to words it prints out as word without ''. (2) about np.linspace. It will be useful for many times calculating. (3) questions about when to use np.zeros(). (4) Is NumPY only for array? Is array that important? (5) More about array vs. list"
   ]
  },
  {
   "cell_type": "code",
   "execution_count": 14,
   "metadata": {},
   "outputs": [
    {
     "name": "stdout",
     "output_type": "stream",
     "text": [
      "['My', 'List', 'is', 'great', 'ABC']\n"
     ]
    }
   ],
   "source": [
    "a=\"My\"\n",
    "b=\"List\"\n",
    "c='ABC'\n",
    "my_list=[a,b,'is','great',c]\n",
    "print(my_list)"
   ]
  },
  {
   "cell_type": "code",
   "execution_count": 8,
   "metadata": {},
   "outputs": [
    {
     "data": {
      "text/plain": [
       "'My'"
      ]
     },
     "execution_count": 8,
     "metadata": {},
     "output_type": "execute_result"
    }
   ],
   "source": [
    "my_list[0]"
   ]
  },
  {
   "cell_type": "code",
   "execution_count": 9,
   "metadata": {},
   "outputs": [
    {
     "data": {
      "text/plain": [
       "'is'"
      ]
     },
     "execution_count": 9,
     "metadata": {},
     "output_type": "execute_result"
    }
   ],
   "source": [
    "my_list[2]"
   ]
  },
  {
   "cell_type": "code",
   "execution_count": 10,
   "metadata": {},
   "outputs": [
    {
     "data": {
      "text/plain": [
       "'My'"
      ]
     },
     "execution_count": 10,
     "metadata": {},
     "output_type": "execute_result"
    }
   ],
   "source": [
    "my_list[-5]"
   ]
  },
  {
   "cell_type": "code",
   "execution_count": 11,
   "metadata": {},
   "outputs": [
    {
     "data": {
      "text/plain": [
       "'is'"
      ]
     },
     "execution_count": 11,
     "metadata": {},
     "output_type": "execute_result"
    }
   ],
   "source": [
    "my_list[-3]"
   ]
  },
  {
   "cell_type": "code",
   "execution_count": 16,
   "metadata": {},
   "outputs": [
    {
     "name": "stdout",
     "output_type": "stream",
     "text": [
      "My\n",
      "is\n",
      "My\n",
      "My\n",
      "['My', 'List', 'is', 'great', 'ABC']\n"
     ]
    }
   ],
   "source": [
    "print(my_list[-5])\n",
    "print(my_list[2])\n",
    "print('My')\n",
    "print(\"My\")\n",
    "print(my_list)"
   ]
  },
  {
   "cell_type": "code",
   "execution_count": 2,
   "metadata": {},
   "outputs": [
    {
     "name": "stdout",
     "output_type": "stream",
     "text": [
      "[1, [6], 3.2, 5.4, 6.6]\n"
     ]
    }
   ],
   "source": [
    "number=[1,3.4,3.2,5.4,6.6]\n",
    "number[1]=[6]\n",
    "print(number)"
   ]
  },
  {
   "cell_type": "code",
   "execution_count": 18,
   "metadata": {},
   "outputs": [
    {
     "name": "stdout",
     "output_type": "stream",
     "text": [
      "[1, 6, 3.2, 5.4, 6.6]\n"
     ]
    }
   ],
   "source": [
    "number[1]=6\n",
    "print(number)"
   ]
  },
  {
   "cell_type": "code",
   "execution_count": 19,
   "metadata": {},
   "outputs": [
    {
     "name": "stdout",
     "output_type": "stream",
     "text": [
      "[1, 6, 3.2, 5.4, 6.6, 9, 2]\n"
     ]
    }
   ],
   "source": [
    "number_2=number+[9,2]\n",
    "print(number_2)"
   ]
  },
  {
   "cell_type": "code",
   "execution_count": 20,
   "metadata": {},
   "outputs": [
    {
     "name": "stdout",
     "output_type": "stream",
     "text": [
      "[1, 6, 3.2, 5.4, 6.6, 2]\n"
     ]
    }
   ],
   "source": [
    "del(number_2[-2])\n",
    "print(number_2)"
   ]
  },
  {
   "cell_type": "code",
   "execution_count": 22,
   "metadata": {},
   "outputs": [
    {
     "name": "stdout",
     "output_type": "stream",
     "text": [
      "[1, 2, 3, 'my', 'list']\n"
     ]
    }
   ],
   "source": [
    "my_list1=[1,2,3,'my','list']\n",
    "print(my_list1)"
   ]
  },
  {
   "cell_type": "code",
   "execution_count": 23,
   "metadata": {},
   "outputs": [],
   "source": [
    "import numpy as np"
   ]
  },
  {
   "cell_type": "code",
   "execution_count": 24,
   "metadata": {},
   "outputs": [
    {
     "name": "stdout",
     "output_type": "stream",
     "text": [
      "[1 2 3 4 5]\n"
     ]
    }
   ],
   "source": [
    "number=[1,2,3,4,5]\n",
    "my_array=np.array(number)\n",
    "print(my_array)"
   ]
  },
  {
   "cell_type": "code",
   "execution_count": 25,
   "metadata": {},
   "outputs": [
    {
     "name": "stdout",
     "output_type": "stream",
     "text": [
      "[1 2 3 4 5 6]\n"
     ]
    }
   ],
   "source": [
    "new_array=np.array([1,2,3,4,5,6])\n",
    "print(new_array)"
   ]
  },
  {
   "cell_type": "code",
   "execution_count": 27,
   "metadata": {},
   "outputs": [
    {
     "name": "stdout",
     "output_type": "stream",
     "text": [
      "[ 103.          106.09        115.92740743  134.39163793 1921.86319809]\n"
     ]
    }
   ],
   "source": [
    "A=100\n",
    "r=.03\n",
    "t=np.array([1,2,5,10,100])\n",
    "growth=A*(1+r)**t\n",
    "print(growth)"
   ]
  },
  {
   "cell_type": "code",
   "execution_count": 32,
   "metadata": {},
   "outputs": [
    {
     "name": "stdout",
     "output_type": "stream",
     "text": [
      "[0. 0. 0. 0. 0.]\n"
     ]
    }
   ],
   "source": [
    "array=np.zeros(5)\n",
    "print(array)"
   ]
  },
  {
   "cell_type": "code",
   "execution_count": 33,
   "metadata": {},
   "outputs": [
    {
     "name": "stdout",
     "output_type": "stream",
     "text": [
      "[  100.           103.01530042   106.1215212    109.32140387\n",
      "   112.61777261   116.01353678   119.51169344   123.11533003\n",
      "   126.82762708   130.65186105   134.59140716   138.64974242\n",
      "   142.83044868   147.13721579   151.57384487   156.14425165\n",
      "   160.85246992   165.70265511   170.69908796   175.84617827\n",
      "   181.14846881   186.61063935   192.23751073   198.03404919\n",
      "   204.0053707    210.15674549   216.49360271   223.02153521\n",
      "   229.74630449   236.67384577   243.81027322   251.16188541\n",
      "   258.73517078   266.53681346   274.57369911   282.852921\n",
      "   291.3817863    300.16782251   309.21878412   318.5426594\n",
      "   328.14767753   338.04231582   348.23530717   358.73564784\n",
      "   369.55260532   380.69572656   392.17484639   404.00009616\n",
      "   416.18191274   428.73104769   441.65857675   454.97590965\n",
      "   468.69480015   482.82735641   497.38605169   512.38373538\n",
      "   527.83364428   543.74941435   560.14509271   577.03515002\n",
      "   594.43449329   612.35847904   630.82292681   649.84413314\n",
      "   669.43888599   689.62447951   710.4187293    731.8399882\n",
      "   753.90716241   776.63972821   800.05774917   824.18189381\n",
      "   849.03345388   874.63436314   901.00721673   928.17529109\n",
      "   956.1625645    984.99373828  1014.69425857  1045.29033877\n",
      "  1076.8089827   1109.27800843  1142.72607283  1177.18269686\n",
      "  1212.67829161  1249.24418518  1286.91265029  1325.71693279\n",
      "  1365.69128098  1406.87097585  1449.29236224  1492.99288086\n",
      "  1538.01110141  1584.38675655  1632.160777    1681.3753277\n",
      "  1732.07384495  1784.3010748   1838.10311253  1893.52744332\n",
      "  1950.6229842   2009.44012715  2070.03078366  2132.44843049\n",
      "  2196.74815688  2262.98671319  2331.22256097  2401.51592454\n",
      "  2473.9288442   2548.52523093  2625.37092282  2704.53374317\n",
      "  2786.08356037  2870.09234956  2956.63425611  3045.78566113\n",
      "  3137.62524883  3232.23407601  3329.69564355  3430.09597013\n",
      "  3533.52366818  3640.07002205  3749.82906856  3862.89768006\n",
      "  3979.37564987  4099.36578039  4222.97397381  4350.3093256\n",
      "  4481.48422079  4616.61443314  4755.81922734  4899.22146428\n",
      "  5046.94770946  5199.12834473  5355.89768333  5517.39408845\n",
      "  5683.76009535  5855.14253714  6031.69267441  6213.5663287\n",
      "  6400.92402005  6593.93110865  6792.75794079  6997.57999923\n",
      "  7208.57805804  7425.93834221  7649.85269192  7880.51873195\n",
      "  8118.14004605  8362.92635662  8615.09370983  8874.86466629\n",
      "  9142.46849748  9418.1413881   9702.12664454  9994.6749096\n",
      " 10296.04438371 10606.50105283 10926.31892319 11255.78026312\n",
      " 11595.1758522  11944.80523789 12304.9769999  12676.00902255\n",
      " 13058.22877532 13451.97360189 13857.59101785 14275.43901744\n",
      " 14705.8863895  15149.31304296 15606.11034214 16076.68145219\n",
      " 16561.44169487 17060.81891517 17575.25385887 18105.20056156\n",
      " 18651.12674939 19213.51425182 19792.85942696 20389.67359957\n",
      " 21004.48351241 21637.83179111 22290.27742309 22962.39625093\n",
      " 23654.78148057 24368.04420493 25102.81394318 25859.7391964\n",
      " 26639.48801993 27442.74861298 28270.22992603 29122.66228655\n",
      " 30000.79804359 30905.41223176 31837.3032553  32797.29359276\n",
      " 33786.23052285 34804.98687231 35854.46178621 36935.58152156]\n"
     ]
    }
   ],
   "source": [
    "A=100\n",
    "r=.03\n",
    "t=np.linspace(0,200,200)\n",
    "growth=A*(1+r)**t\n",
    "print(growth)"
   ]
  },
  {
   "cell_type": "code",
   "execution_count": 34,
   "metadata": {},
   "outputs": [
    {
     "name": "stdout",
     "output_type": "stream",
     "text": [
      "[  100.           136.49875214   186.31909335   254.32323742\n",
      "   347.14804548   473.85275016   646.80309094   882.87814792\n",
      "  1205.11765482  1644.97056063  2245.36428831  3064.8942345\n",
      "  4183.54238446  5710.48314998  7794.73824081 10639.72043117\n",
      " 14523.08561958 19823.83064274 27059.28145341 36935.58152156]\n"
     ]
    }
   ],
   "source": [
    "A=100\n",
    "r=.03\n",
    "t=np.linspace(0,200,20)\n",
    "growth=A*(1+r)**t\n",
    "print(growth)"
   ]
  },
  {
   "cell_type": "code",
   "execution_count": null,
   "metadata": {},
   "outputs": [],
   "source": []
  }
 ],
 "metadata": {
  "kernelspec": {
   "display_name": "Python 3",
   "language": "python",
   "name": "python3"
  },
  "language_info": {
   "codemirror_mode": {
    "name": "ipython",
    "version": 3
   },
   "file_extension": ".py",
   "mimetype": "text/x-python",
   "name": "python",
   "nbconvert_exporter": "python",
   "pygments_lexer": "ipython3",
   "version": "3.7.4"
  }
 },
 "nbformat": 4,
 "nbformat_minor": 4
}
