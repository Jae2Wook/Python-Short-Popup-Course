{
 "cells": [
  {
   "cell_type": "markdown",
   "metadata": {},
   "source": [
    "# Python Homework #2: Lists and Arrays"
   ]
  },
  {
   "cell_type": "markdown",
   "metadata": {},
   "source": [
    "This homework will give you a basic understanding of lists and arrays. Before completing this homework, make sure you have read everything under Week 2 in the Python Guide (sections 4-5.2.3)."
   ]
  },
  {
   "cell_type": "markdown",
   "metadata": {},
   "source": [
    "## Q1) Lists"
   ]
  },
  {
   "cell_type": "markdown",
   "metadata": {},
   "source": [
    "**(a)** Create a list with the numbers 1-10. Print the list."
   ]
  },
  {
   "cell_type": "code",
   "execution_count": null,
   "metadata": {},
   "outputs": [],
   "source": [
    "numbers = "
   ]
  },
  {
   "cell_type": "markdown",
   "metadata": {},
   "source": [
    "**(b)** Print out the number 5 from your list. *Remember, Python has 0 based counting.*\n",
    "\n",
    "Your output should look like this:\n",
    "\n",
    "5"
   ]
  },
  {
   "cell_type": "code",
   "execution_count": null,
   "metadata": {},
   "outputs": [],
   "source": []
  },
  {
   "cell_type": "markdown",
   "metadata": {},
   "source": [
    "**(c)** Print the number 10 from your list. *Remember, when you're subsetting lists, you can also count backwards.*"
   ]
  },
  {
   "cell_type": "code",
   "execution_count": null,
   "metadata": {},
   "outputs": [],
   "source": []
  },
  {
   "cell_type": "markdown",
   "metadata": {},
   "source": [
    "**(d)** Add the number 11 to your list. Print the list.\n",
    "\n",
    "Your output should look like this:\n",
    "\n",
    "\\[1, 2, 3, 4, 5, 6, 7, 8, 9, 10, 11\\]"
   ]
  },
  {
   "cell_type": "code",
   "execution_count": null,
   "metadata": {},
   "outputs": [],
   "source": []
  },
  {
   "cell_type": "markdown",
   "metadata": {},
   "source": [
    "**(e)** Take out the number 3 from the prevoius list and print a new one. You should now have a list that looks like this:\n",
    "\n",
    "\\[1, 2, 4, 5, 6, 7, 8, 9, 10, 11\\]"
   ]
  },
  {
   "cell_type": "code",
   "execution_count": null,
   "metadata": {},
   "outputs": [],
   "source": []
  },
  {
   "cell_type": "markdown",
   "metadata": {},
   "source": [
    "## Q2) Arrays"
   ]
  },
  {
   "cell_type": "markdown",
   "metadata": {},
   "source": [
    "**(a)** Import NumPy as np"
   ]
  },
  {
   "cell_type": "code",
   "execution_count": null,
   "metadata": {},
   "outputs": [],
   "source": []
  },
  {
   "cell_type": "markdown",
   "metadata": {},
   "source": [
    "**(b)** Convert the list from the earlier section, **Q1e**, to an array. Print the new array. Your output should look like this:\n",
    "\n",
    "\\[1  2  4  5  6  7  8  9  10  11\\]"
   ]
  },
  {
   "cell_type": "code",
   "execution_count": null,
   "metadata": {},
   "outputs": [],
   "source": []
  },
  {
   "cell_type": "markdown",
   "metadata": {},
   "source": [
    "**(c)** Multiply the entire array by 10. Print your output."
   ]
  },
  {
   "cell_type": "code",
   "execution_count": null,
   "metadata": {},
   "outputs": [],
   "source": []
  },
  {
   "cell_type": "markdown",
   "metadata": {},
   "source": [
    "**(d)** Create a new array named *intervals*. Go from 1 to 10 with 19 intervals total. Print your array. *Hint: you can use a linspace array as outlined in the Python Guide to do this.*"
   ]
  },
  {
   "cell_type": "code",
   "execution_count": null,
   "metadata": {},
   "outputs": [],
   "source": []
  },
  {
   "cell_type": "markdown",
   "metadata": {},
   "source": [
    "**(e)** Create a new array named *zeros* that contains 15 zeroes. Print your array. *Hint: research the np.zeros function on Google.*"
   ]
  },
  {
   "cell_type": "code",
   "execution_count": null,
   "metadata": {},
   "outputs": [],
   "source": []
  },
  {
   "cell_type": "markdown",
   "metadata": {},
   "source": [
    "## Q3) Learning How to Solve Systems of Equations in Python\n",
    "\n",
    "In Python, it is possible to solve a system of two or more equations. In preparation for this assignment and future exercises, you will learn how to solve a system of equations in Python. Follow the steps below to complete this exercise. \n",
    "\n",
    "**Review of Linear Algebra** \n",
    "\n",
    "In Econ 215, you learned the following formula can be used to find unknowns of a system of equations.\n",
    "$$\n",
    "Ax = b \\ \\ \\ \\ \\ \\ (1)\n",
    "$$\n",
    "\n",
    "The equation (1) can be manipulated and solved using rules from linear algebra to arrive at the following equation.\n",
    "$$\n",
    "x = A^{-1} b \\ \\ \\ \\ \\ (2)\n",
    "$$\n",
    "\n",
    "Equation (2) says the unknowns to a system of equations can be solved for by taking the inverse of matrix A and multiplying it by the constants of an equation. \n",
    "\n",
    "\n",
    " **Video**\n",
    "\n",
    "With those formulas in mind, watch the following video as it will teach you how to solve systems of equations in Python. \n",
    "    \n",
    "__[Click here to watch video]( https://youtu.be/44pAWI7v5Zk)__\n",
    "\n",
    "  \n",
    "\n",
    "**Solve the Equations**\n",
    "\n",
    "Using the information from the video, solve the equations below using Python. Be sure to format your answers so they look nice."
   ]
  },
  {
   "cell_type": "markdown",
   "metadata": {},
   "source": [
    "__(a)__\n",
    "\n",
    "\\begin{align*}\n",
    "3x  + 4y &= 10\\\\\n",
    "2x + 3y &= 7 \n",
    "\\end{align*}"
   ]
  },
  {
   "cell_type": "code",
   "execution_count": null,
   "metadata": {},
   "outputs": [],
   "source": []
  },
  {
   "cell_type": "markdown",
   "metadata": {},
   "source": [
    "__(b)__\n",
    "\n",
    "\\begin{align*}\n",
    "x - 2y + 3z &= 7\\\\\n",
    "2x + y + z &= 4\\\\\n",
    "-3x + 2y - 2z &= -10\n",
    "\\end{align*}\n"
   ]
  },
  {
   "cell_type": "code",
   "execution_count": null,
   "metadata": {},
   "outputs": [],
   "source": []
  },
  {
   "cell_type": "markdown",
   "metadata": {},
   "source": []
  },
  {
   "cell_type": "markdown",
   "metadata": {},
   "source": [
    "## Saving and Exporting"
   ]
  },
  {
   "cell_type": "markdown",
   "metadata": {},
   "source": [
    "Save your notebook, name the file, download as an HTML file, and turn it in on Canvas."
   ]
  }
 ],
 "metadata": {
  "kernelspec": {
   "display_name": "Python 3",
   "language": "python",
   "name": "python3"
  },
  "language_info": {
   "codemirror_mode": {
    "name": "ipython",
    "version": 3
   },
   "file_extension": ".py",
   "mimetype": "text/x-python",
   "name": "python",
   "nbconvert_exporter": "python",
   "pygments_lexer": "ipython3",
   "version": "3.7.1"
  }
 },
 "nbformat": 4,
 "nbformat_minor": 2
}
