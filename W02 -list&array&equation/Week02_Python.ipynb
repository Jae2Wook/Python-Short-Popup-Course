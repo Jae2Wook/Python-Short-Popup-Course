{
 "cells": [
  {
   "cell_type": "markdown",
   "metadata": {},
   "source": [
    "# Python Homework #2: Lists and Arrays"
   ]
  },
  {
   "cell_type": "markdown",
   "metadata": {},
   "source": [
    "This homework will give you a basic understanding of lists and arrays. Before completing this homework, make sure you have read everything under Week 2 in the Python Guide (sections 4-5.2.3)."
   ]
  },
  {
   "cell_type": "markdown",
   "metadata": {},
   "source": [
    "## Q1) Lists"
   ]
  },
  {
   "cell_type": "markdown",
   "metadata": {},
   "source": [
    "**(a)** Create a list with the numbers 1-10. Print the list."
   ]
  },
  {
   "cell_type": "code",
   "execution_count": 58,
   "metadata": {},
   "outputs": [
    {
     "name": "stdout",
     "output_type": "stream",
     "text": [
      "[1, 2, 3, 4, 5, 6, 7, 8, 9, 10]\n"
     ]
    }
   ],
   "source": [
    "numbers = [1, 2, 3, 4, 5, 6, 7, 8, 9, 10]\n",
    "print(numbers)"
   ]
  },
  {
   "cell_type": "markdown",
   "metadata": {},
   "source": [
    "**(b)** Print out the number 5 from your list. *Remember, Python has 0 based counting.*\n",
    "\n",
    "Your output should look like this:\n",
    "\n",
    "5"
   ]
  },
  {
   "cell_type": "code",
   "execution_count": 19,
   "metadata": {},
   "outputs": [
    {
     "name": "stdout",
     "output_type": "stream",
     "text": [
      "5\n"
     ]
    }
   ],
   "source": [
    "print(numbers[4])"
   ]
  },
  {
   "cell_type": "code",
   "execution_count": 31,
   "metadata": {},
   "outputs": [],
   "source": [
    "#mylist.reverse()\n",
    "#mylist"
   ]
  },
  {
   "cell_type": "code",
   "execution_count": 37,
   "metadata": {},
   "outputs": [
    {
     "name": "stdout",
     "output_type": "stream",
     "text": [
      "[1, 2, 3, 4, 5, 6, 7, 8, 9, 10]\n"
     ]
    }
   ],
   "source": [
    "numbers.reverse()\n",
    "print(numbers)"
   ]
  },
  {
   "cell_type": "markdown",
   "metadata": {},
   "source": [
    "**(c)** Print the number 10 from your list. *Remember, when you're subsetting lists, you can also count backwards.*"
   ]
  },
  {
   "cell_type": "code",
   "execution_count": 30,
   "metadata": {},
   "outputs": [
    {
     "name": "stdout",
     "output_type": "stream",
     "text": [
      "[10, 9, 8, 7, 6, 5, 4, 3, 2, 1]\n"
     ]
    }
   ],
   "source": [
    "numbers.reverse()\n",
    "print(numbers)"
   ]
  },
  {
   "cell_type": "markdown",
   "metadata": {},
   "source": [
    "**(d)** Add the number 11 to your list. Print the list.\n",
    "\n",
    "Your output should look like this:\n",
    "\n",
    "\\[1, 2, 3, 4, 5, 6, 7, 8, 9, 10, 11\\]"
   ]
  },
  {
   "cell_type": "code",
   "execution_count": 61,
   "metadata": {},
   "outputs": [
    {
     "name": "stdout",
     "output_type": "stream",
     "text": [
      "[1, 2, 3, 4, 5, 6, 7, 8, 9, 10, 11]\n"
     ]
    }
   ],
   "source": [
    "numbers1 = numbers + [11]\n",
    "print(numbers1)"
   ]
  },
  {
   "cell_type": "markdown",
   "metadata": {},
   "source": [
    "**(e)** Take out the number 3 from the prevoius list and print a new one. You should now have a list that looks like this:\n",
    "\n",
    "\\[1, 2, 4, 5, 6, 7, 8, 9, 10, 11\\]"
   ]
  },
  {
   "cell_type": "code",
   "execution_count": 60,
   "metadata": {},
   "outputs": [
    {
     "name": "stdout",
     "output_type": "stream",
     "text": [
      "[1, 2, 3, 5, 6, 7, 8, 9, 10, 11]\n"
     ]
    }
   ],
   "source": [
    "del(numbers1[3])\n",
    "print(numbers1)"
   ]
  },
  {
   "cell_type": "markdown",
   "metadata": {},
   "source": [
    "## Q2) Arrays"
   ]
  },
  {
   "cell_type": "markdown",
   "metadata": {},
   "source": [
    "**(a)** Import NumPy as np"
   ]
  },
  {
   "cell_type": "code",
   "execution_count": null,
   "metadata": {},
   "outputs": [],
   "source": [
    "import numpy as np"
   ]
  },
  {
   "cell_type": "markdown",
   "metadata": {},
   "source": [
    "**(b)** Convert the list from the earlier section, **Q1e**, to an array. Print the new array. Your output should look like this:\n",
    "\n",
    "\\[1  2  4  5  6  7  8  9  10  11\\]"
   ]
  },
  {
   "cell_type": "code",
   "execution_count": 62,
   "metadata": {},
   "outputs": [
    {
     "name": "stdout",
     "output_type": "stream",
     "text": [
      "[ 1  2  3  4  5  6  7  8  9 10 11]\n"
     ]
    }
   ],
   "source": [
    "array1 = np.array(numbers1)\n",
    "print(array1)"
   ]
  },
  {
   "cell_type": "markdown",
   "metadata": {},
   "source": [
    "**(c)** Multiply the entire array by 10. Print your output."
   ]
  },
  {
   "cell_type": "code",
   "execution_count": 64,
   "metadata": {},
   "outputs": [
    {
     "name": "stdout",
     "output_type": "stream",
     "text": [
      "[ 10  20  30  40  50  60  70  80  90 100 110]\n"
     ]
    }
   ],
   "source": [
    "print(array1 * 10)"
   ]
  },
  {
   "cell_type": "markdown",
   "metadata": {},
   "source": [
    "**(d)** Create a new array named *intervals*. Go from 1 to 10 with 19 intervals total. Print your array. *Hint: you can use a linspace array as outlined in the Python Guide to do this.*"
   ]
  },
  {
   "cell_type": "code",
   "execution_count": 66,
   "metadata": {},
   "outputs": [
    {
     "name": "stdout",
     "output_type": "stream",
     "text": [
      "[ 1.   1.5  2.   2.5  3.   3.5  4.   4.5  5.   5.5  6.   6.5  7.   7.5\n",
      "  8.   8.5  9.   9.5 10. ]\n"
     ]
    }
   ],
   "source": [
    "array2 = np.linspace(1,10,19)\n",
    "print(array2)"
   ]
  },
  {
   "cell_type": "markdown",
   "metadata": {},
   "source": [
    "**(e)** Create a new array named *zeros* that contains 15 zeroes. Print your array. *Hint: research the np.zeros function on Google.*"
   ]
  },
  {
   "cell_type": "code",
   "execution_count": 67,
   "metadata": {},
   "outputs": [
    {
     "name": "stdout",
     "output_type": "stream",
     "text": [
      "[0. 0. 0. 0. 0. 0. 0. 0. 0. 0. 0. 0. 0. 0. 0.]\n"
     ]
    }
   ],
   "source": [
    "array3 = np.zeros(15)\n",
    "print(array3)"
   ]
  },
  {
   "cell_type": "markdown",
   "metadata": {},
   "source": [
    "## Q3) Learning How to Solve Systems of Equations in Python\n",
    "\n",
    "In Python, it is possible to solve a system of two or more equations. In preparation for this assignment and future exercises, you will learn how to solve a system of equations in Python. Follow the steps below to complete this exercise. \n",
    "\n",
    "**Review of Linear Algebra** \n",
    "\n",
    "In Econ 215, you learned the following formula can be used to find unknowns of a system of equations.\n",
    "$$\n",
    "Ax = b \\ \\ \\ \\ \\ \\ (1)\n",
    "$$\n",
    "\n",
    "The equation (1) can be manipulated and solved using rules from linear algebra to arrive at the following equation.\n",
    "$$\n",
    "x = A^{-1} b \\ \\ \\ \\ \\ (2)\n",
    "$$\n",
    "\n",
    "Equation (2) says the unknowns to a system of equations can be solved for by taking the inverse of matrix A and multiplying it by the constants of an equation. \n",
    "\n",
    "\n",
    " **Video**\n",
    "\n",
    "With those formulas in mind, watch the following video as it will teach you how to solve systems of equations in Python. \n",
    "    \n",
    "__[Click here to watch video]( https://youtu.be/44pAWI7v5Zk)__\n",
    "\n",
    "  \n",
    "\n",
    "**Solve the Equations**\n",
    "\n",
    "Using the information from the video, solve the equations below using Python. Be sure to format your answers so they look nice."
   ]
  },
  {
   "cell_type": "markdown",
   "metadata": {},
   "source": [
    "__(a)__\n",
    "\n",
    "\\begin{align*}\n",
    "3x  + 4y &= 10\\\\\n",
    "2x + 3y &= 7 \n",
    "\\end{align*}"
   ]
  },
  {
   "cell_type": "code",
   "execution_count": 78,
   "metadata": {},
   "outputs": [
    {
     "name": "stdout",
     "output_type": "stream",
     "text": [
      "[2. 1.]\n",
      "x =  2 , y =  1\n"
     ]
    }
   ],
   "source": [
    "A = np.array([[3,4],[2,3]])\n",
    "C = np.array([10,7])\n",
    "Y = np.linalg.solve(A,C)\n",
    "print(Y)\n",
    "print('x = ','{:.0f}'.format(Y[0]), ',', 'y = ','{:.0f}'.format(Y[1]))"
   ]
  },
  {
   "cell_type": "markdown",
   "metadata": {},
   "source": [
    "__(b)__\n",
    "\n",
    "\\begin{align*}\n",
    "x - 2y + 3z &= 7\\\\\n",
    "2x + y + z &= 4\\\\\n",
    "-3x + 2y - 2z &= -10\n",
    "\\end{align*}\n"
   ]
  },
  {
   "cell_type": "code",
   "execution_count": 77,
   "metadata": {},
   "outputs": [
    {
     "name": "stdout",
     "output_type": "stream",
     "text": [
      "[ 2. -1.  1.]\n",
      "x =  2 , y =  -1 , z =  1\n"
     ]
    }
   ],
   "source": [
    "A = np.array([[1,-2,3],[2,1,1],[-3,2,-2]])\n",
    "C = np.array([7,4,-10])\n",
    "Y = np.linalg.solve(A,C)\n",
    "print(Y)\n",
    "print('x = ','{:.0f}'.format(Y[0]), ',', 'y = ','{:.0f}'.format(Y[1]), ',', 'z = ','{:.0f}'.format(Y[2]))"
   ]
  },
  {
   "cell_type": "markdown",
   "metadata": {},
   "source": [
    "## Saving and Exporting"
   ]
  },
  {
   "cell_type": "markdown",
   "metadata": {},
   "source": [
    "Save your notebook, name the file, download as an HTML file, and turn it in on Canvas."
   ]
  }
 ],
 "metadata": {
  "kernelspec": {
   "display_name": "Python 3",
   "language": "python",
   "name": "python3"
  },
  "language_info": {
   "codemirror_mode": {
    "name": "ipython",
    "version": 3
   },
   "file_extension": ".py",
   "mimetype": "text/x-python",
   "name": "python",
   "nbconvert_exporter": "python",
   "pygments_lexer": "ipython3",
   "version": "3.7.4"
  }
 },
 "nbformat": 4,
 "nbformat_minor": 4
}
