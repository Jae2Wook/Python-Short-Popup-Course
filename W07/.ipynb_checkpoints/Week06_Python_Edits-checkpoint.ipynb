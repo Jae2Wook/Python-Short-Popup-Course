{
 "cells": [
  {
   "cell_type": "markdown",
   "metadata": {},
   "source": [
    "# Python Homework 6: Importing Files\n",
    "\n",
    "This homework teaches how to import files. Before completing this homework, make sure you have read everything under Week 6 in the Python Guide (sections 8-8.3)."
   ]
  },
  {
   "cell_type": "code",
   "execution_count": 3,
   "metadata": {},
   "outputs": [],
   "source": [
    "import pandas as pd"
   ]
  },
  {
   "cell_type": "markdown",
   "metadata": {},
   "source": [
    "## Q1) Practice Importing Data (A Python Question)\n",
    "\n",
    "At some point you may need to import data sets that are stored on a remote server. The process of downloading the data is the same—just import the data and save it to a variable. Then, you can print the data sets."
   ]
  },
  {
   "cell_type": "code",
   "execution_count": 1,
   "metadata": {},
   "outputs": [
    {
     "name": "stdout",
     "output_type": "stream",
     "text": [
      "https://raw.githubusercontent.com/dylanjm/econ_381_development/master/data/ch07_employment_ratio_women.csv\n"
     ]
    }
   ],
   "source": [
    "# Practice Importing this data set. You will use it in your chapter 7 macro homework\n",
    "# For the sake of simplicity, we have downloaded the data and stored it on a remote server.\n",
    "# This code requires the use of the Pandas library, we have abbreviated Pandas as pd (see the preamble).\n",
    "\n",
    "# URL to first data set:\n",
    "men_url = \"https://raw.githubusercontent.com/dylanjm/econ_381_development/master/data/ch07_employment_ratio_men.csv\"\n",
    "\n",
    "# Import the data and save it to a variable:\n",
    "\n",
    "# URL to second data set:\n",
    "women_url = \"https://raw.githubusercontent.com/dylanjm/econ_381_development/master/data/ch07_employment_ratio_women.csv\"\n",
    "\n",
    "# Import the data and save it to a variable:\n",
    "\n",
    "\n",
    "# Print both data sets:\n"
   ]
  },
  {
   "cell_type": "markdown",
   "metadata": {},
   "source": [
    "## Q3) The Labor Share and Cobb-Douglas Production (a FRED question)\n",
    "\n",
    "Download the FRED `ch04_labor_compensation.csv` file (see 6(a) code comments). The file analyzes the share of income paid to labor for the nonfarm business sector of the U.S. economy, back to 1950. (For an introduction to FRED, see the case study \"The FRED database\" in Chapter 2 on page 34)."
   ]
  },
  {
   "cell_type": "code",
   "execution_count": null,
   "metadata": {},
   "outputs": [],
   "source": [
    "# Link: https://raw.githubusercontent.com/dylanjm/econ_381_development/master/data/ch04_labor_compensation.csv\n"
   ]
  },
  {
   "cell_type": "markdown",
   "metadata": {},
   "source": [
    "## Q3) Intellectual Property Products (a FRED question)\n",
    "\n",
    "In 2015, the U.S. National Income Accounts began to \"count\" intellectual property products—such as R&D, computer software, books, music, and movies—explicitly as investment. More correctly, they had previously assumed these products were an intermediate good that depreciated fully when used to produce some other final good, but now they are included as a part of investment and GDP. Examine the data on investment in intellectual property products (IPP).\n",
    "\n",
    "__(a):__ Using the FRED database, download the data for the series with label \"Y001RE1Q156NBEA\" and create a time series plot. Follow the steps below to complete this. __Don't skip steps or this won't work!__\n",
    "\n",
    "   * Begin by downloading the data to your computer from FRED as instructed in part __(a)__ by selecting download and then selecting the CSV (data) option on the FRED website. The file should download with the name \"Y001RE1Q156NBEA.csv\".\n",
    "   \n",
    "   * Once you have downloaded the data you will need to locate where the data was downloaded. This will typically be in your Downloads folder on your computer. Take the .csv file from your Downloads and move it to a different folder such as a folder for this class.\n",
    "   \n",
    "   * A file path to such a folder for this class __in Windows__ might look like `C:\\Users\\...\\Econ_381`. __For Mac__, the file path might be `~/Documents/.../Econ_381`. __Note file paths are case sensitive!__  *You can copy file paths by pressing shift+rightclick on the file. Then press copy as path. You will have to flip all of the forward slashes to backslashes*\n",
    "   \n",
    "   * You will use Python's Pandas package to import the data using the read csv function with the appropriate Windows or Mac file path. __Don't forget to use quotes around your file path in the funcion.__ The final file path needed to import the data might look something like this: `C:/Users/.../Econ 381/Y001RE1Q156NBEA.csv`. __Note!__ the slash is facing a different direction than in bullet four for Windows users, the slash must face forward when the file path is placed inside the read_csv() function. Alternatively you could use an \"r\" before the file path, like:   \n",
    "   `pd.read_csv(r\"C:/Users/.../Econ 381/Y001RE1Q156NBEA.csv\")` if you don't want to change the slashes.\n",
    "   \n",
    "   * If your Pandas data import does not work you may have misspelled a word, not capitalized something that should be, put an unnecessary space, or the file path you have does not lead to where the .csv file is actually stored. Check all these things if it does not work."
   ]
  },
  {
   "cell_type": "code",
   "execution_count": null,
   "metadata": {},
   "outputs": [],
   "source": [
    "#Step 1: import the data set\n",
    "\n",
    "\n",
    "#Step 2: create a timeseries plot\n",
    "\n"
   ]
  },
  {
   "cell_type": "markdown",
   "metadata": {},
   "source": [
    "## Saving and Exporting\n",
    "\n",
    "Save your notebook, name the file, download as an HTML file, and turn it in on Canvas."
   ]
  }
 ],
 "metadata": {
  "kernelspec": {
   "display_name": "Python 3",
   "language": "python",
   "name": "python3"
  },
  "language_info": {
   "codemirror_mode": {
    "name": "ipython",
    "version": 3
   },
   "file_extension": ".py",
   "mimetype": "text/x-python",
   "name": "python",
   "nbconvert_exporter": "python",
   "pygments_lexer": "ipython3",
   "version": "3.7.1"
  }
 },
 "nbformat": 4,
 "nbformat_minor": 2
}
