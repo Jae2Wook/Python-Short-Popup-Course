{
 "cells": [
  {
   "cell_type": "code",
   "execution_count": 1,
   "metadata": {},
   "outputs": [
    {
     "name": "stdout",
     "output_type": "stream",
     "text": [
      "This isn't too hard\n"
     ]
    }
   ],
   "source": [
    "time = 12\n",
    "if (time > 15):\n",
    "      print(\"I Give Up\")\n",
    "else :\n",
    "      print(\"This isn't too hard\")"
   ]
  },
  {
   "cell_type": "code",
   "execution_count": 4,
   "metadata": {},
   "outputs": [
    {
     "name": "stdout",
     "output_type": "stream",
     "text": [
      "This isn't too hard\n"
     ]
    }
   ],
   "source": [
    "time = 12\n",
    "if (time < 5):\n",
    "    print(\"Wow this is easy\")\n",
    "elif (time > 5 and time < 15):\n",
    "    print(\"This isn't too hard\")\n",
    "elif (time >15 and time < 30):\n",
    "    print(\"I don't think this is possible\")\n",
    "else :\n",
    "    print(\"Death would be preferable to this\")"
   ]
  },
  {
   "cell_type": "code",
   "execution_count": 3,
   "metadata": {},
   "outputs": [
    {
     "name": "stdout",
     "output_type": "stream",
     "text": [
      "589.1603104045746\n"
     ]
    }
   ],
   "source": [
    "growth = lambda A, r, t: A*(1 + r)**t\n",
    "#  print(growth(A,r,t))\n",
    "print(growth(100, 0.03, 60))"
   ]
  },
  {
   "cell_type": "code",
   "execution_count": 4,
   "metadata": {},
   "outputs": [
    {
     "name": "stdout",
     "output_type": "stream",
     "text": [
      "[  0.          47.13282483 117.83206208 589.1603104 ]\n"
     ]
    }
   ],
   "source": [
    "import numpy as np\n",
    "\n",
    "initial = np.array([0, 8, 20, 100])\n",
    "print(growth(initial, 0.03, 60))"
   ]
  },
  {
   "cell_type": "code",
   "execution_count": 5,
   "metadata": {},
   "outputs": [
    {
     "name": "stdout",
     "output_type": "stream",
     "text": [
      "Name:  miki\n",
      "Age:  50\n"
     ]
    }
   ],
   "source": [
    "def printinfo(name, age):\n",
    "  print(\"Name: \", name)\n",
    "  print(\"Age: \", age)\n",
    "  return;\n",
    "\n",
    "printinfo(\"miki\", 50)"
   ]
  },
  {
   "cell_type": "code",
   "execution_count": 19,
   "metadata": {},
   "outputs": [
    {
     "name": "stdout",
     "output_type": "stream",
     "text": [
      "You made $4000\n",
      "You made $600\n"
     ]
    }
   ],
   "source": [
    "BuyQ = 100\n",
    "BuyP = 120\n",
    "SellQ = 50\n",
    "SellP = 200\n",
    "def calculateTradeProfit(BuyQ, BuyP, SellQ, SellP):\n",
    " buyCost = SellQ * BuyP\n",
    " saleRevenue = SellQ * SellP\n",
    " print(\"You made $\" + str(saleRevenue - buyCost))\n",
    " \n",
    "calculateTradeProfit(BuyQ, BuyP, SellQ, SellP)\n",
    "calculateTradeProfit(10, 20, 30, 40)"
   ]
  },
  {
   "cell_type": "code",
   "execution_count": 20,
   "metadata": {},
   "outputs": [
    {
     "name": "stdout",
     "output_type": "stream",
     "text": [
      "49508408.19899582\n"
     ]
    },
    {
     "data": {
      "text/plain": [
       "[<matplotlib.lines.Line2D at 0x12fadc01488>]"
      ]
     },
     "execution_count": 20,
     "metadata": {},
     "output_type": "execute_result"
    },
    {
     "data": {
      "image/png": "[encoded data removed]",
      "text/plain": [
       "<Figure size 432x288 with 1 Axes>"
      ]
     },
     "metadata": {
      "needs_background": "light"
     },
     "output_type": "display_data"
    }
   ],
   "source": [
    "import matplotlib.pyplot as plt\n",
    "\n",
    "x = np.zeros(101)\n",
    "x[0] = 10\n",
    "for i in range(0,100):\n",
    " x_change = (x[i] * 1/2) - (x[i] * 1/3)\n",
    " x[i+1] = x[i]+ x_change\n",
    "print(x[-1])\n",
    "plt.plot(x)"
   ]
  },
  {
   "cell_type": "code",
   "execution_count": 8,
   "metadata": {},
   "outputs": [
    {
     "name": "stdout",
     "output_type": "stream",
     "text": [
      "40.04249284757151\n"
     ]
    }
   ],
   "source": [
    "x = ([0,0,0,0,0,0,0,0,0,0])\n",
    "x[0] = 10\n",
    "for i in range(0, 9):\n",
    " x_change = (x[i] * 1/2) - (x[i] * 1/3)\n",
    " x[i+1] = x[i] + x_change\n",
    "print(x[9])"
   ]
  },
  {
   "cell_type": "code",
   "execution_count": 9,
   "metadata": {},
   "outputs": [
    {
     "name": "stdout",
     "output_type": "stream",
     "text": [
      "red, cherry\n",
      "red, melon\n",
      "red, banana\n",
      "green cherry\n",
      "green melon\n",
      "green banana\n",
      "purple cherry\n",
      "purple melon\n",
      "purple banana\n"
     ]
    }
   ],
   "source": [
    "adj = [\"red,\", \"green\", \"purple\"]\n",
    "fr = [\"cherry\", \"melon\", \"banana\"]\n",
    "for i in adj:\n",
    " for j in fr:\n",
    "    print(i, j)"
   ]
  },
  {
   "cell_type": "code",
   "execution_count": 10,
   "metadata": {},
   "outputs": [
    {
     "name": "stdout",
     "output_type": "stream",
     "text": [
      "['apple', 'banana', 'grape', 'cherry']\n",
      "['apple', 'banana', 'grape', 'cherry']\n"
     ]
    }
   ],
   "source": [
    "fruit = [\"apple\", \"banana\", \"grape\", \"cherry\"]\n",
    "for i in fruit:\n",
    "    if i == \"grape\":\n",
    "     break\n",
    "    print(fruit)\n",
    "    #   ?  #"
   ]
  },
  {
   "cell_type": "code",
   "execution_count": 11,
   "metadata": {},
   "outputs": [
    {
     "name": "stdout",
     "output_type": "stream",
     "text": [
      "1\n",
      "2\n",
      "3\n",
      "4\n",
      "5\n"
     ]
    }
   ],
   "source": [
    "i = 1\n",
    "while i < 6:\n",
    "    print(i)\n",
    "    i = i + 1"
   ]
  },
  {
   "cell_type": "code",
   "execution_count": 12,
   "metadata": {},
   "outputs": [
    {
     "name": "stdout",
     "output_type": "stream",
     "text": [
      "1\n",
      "2\n",
      "3\n",
      "4\n",
      "5\n"
     ]
    }
   ],
   "source": [
    "i = 1\n",
    "while i < 6:\n",
    "    print(i)\n",
    "    i += 1"
   ]
  },
  {
   "cell_type": "code",
   "execution_count": 13,
   "metadata": {},
   "outputs": [
    {
     "name": "stdout",
     "output_type": "stream",
     "text": [
      "1\n",
      "2\n",
      "3\n",
      "4\n",
      "5\n",
      "i is no longer than 6\n"
     ]
    }
   ],
   "source": [
    "i = 1\n",
    "while i < 6:\n",
    "    print(i)\n",
    "    i = i + 1\n",
    "else:\n",
    "     print(\"i is no longer than 6\")  "
   ]
  }
 ],
 "metadata": {
  "kernelspec": {
   "display_name": "Python 3",
   "language": "python",
   "name": "python3"
  },
  "language_info": {
   "codemirror_mode": {
    "name": "ipython",
    "version": 3
   },
   "file_extension": ".py",
   "mimetype": "text/x-python",
   "name": "python",
   "nbconvert_exporter": "python",
   "pygments_lexer": "ipython3",
   "version": "3.7.4"
  }
 },
 "nbformat": 4,
 "nbformat_minor": 4
}
