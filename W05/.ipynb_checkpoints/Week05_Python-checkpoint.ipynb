{
 "cells": [
  {
   "cell_type": "markdown",
   "metadata": {},
   "source": [
    "# Python Homework 5: Loops and Functions\n",
    "\n",
    "This homework is designed to get you familiar with loops and functions. Before completing this homework, make sure you have read everything under Week 5 in the Python Guide (sections 6-8)."
   ]
  },
  {
   "cell_type": "markdown",
   "metadata": {},
   "source": [
    "## Q1) If Function\n",
    "\n",
    "Create an If Function that fills the following criteria:\n",
    "\n",
    "If a is greater than b **and** c is greater than a, print \"Both conditions are true\"\n",
    "\n",
    "If a is greater than b **or** c is greater than a, print \"At least one condition is true\"\n",
    "\n",
    "If a doesn't fit either of those statements, print \"No conditions are true\"\n"
   ]
  },
  {
   "cell_type": "code",
   "execution_count": 4,
   "metadata": {},
   "outputs": [],
   "source": [
    "a = 350\n",
    "b = 600\n",
    "c = 200 \n"
   ]
  },
  {
   "cell_type": "markdown",
   "metadata": {},
   "source": [
    "## Q2) Lambda Function"
   ]
  },
  {
   "cell_type": "markdown",
   "metadata": {},
   "source": [
    "Create a Lambda Function that returns the hypotenuse of a triangle based on the Pythagorean Theorum. \n",
    "\n",
    "$$\n",
    "a^2 + b^2 = c^2\n",
    "$$\n",
    "\n",
    "Calculate c using your Lambda Function and values of a = 3 and b = 4."
   ]
  },
  {
   "cell_type": "code",
   "execution_count": null,
   "metadata": {},
   "outputs": [],
   "source": []
  },
  {
   "cell_type": "markdown",
   "metadata": {},
   "source": [
    "## Q3) Block Function"
   ]
  },
  {
   "cell_type": "markdown",
   "metadata": {},
   "source": [
    "**(a)** Create a Farenheit to Celcius conversion calculator using a Block Function. The equation is listed below. \n",
    "\n",
    "$$\n",
    "(x − 32) * \\frac{5}{9}\n",
    "$$\n",
    "\n",
    "Make the Block Function print \"x degrees Farenheit equals y degrees Celcius\" where x = the degrees farenheit that you enter into the Block Function, and y = the output of the function. *Make sure you limit the output to 2 decimal places.*\n",
    "\n",
    "\n",
    "**(b)** Set x = 32 in your Block Function and run the code. Your output should look like this:\n",
    "\n",
    "32 degrees Farenheit equals 0.00 degrees Celcius."
   ]
  },
  {
   "cell_type": "code",
   "execution_count": null,
   "metadata": {},
   "outputs": [],
   "source": []
  },
  {
   "cell_type": "markdown",
   "metadata": {},
   "source": [
    "## Q1) Basic For Loop"
   ]
  },
  {
   "cell_type": "markdown",
   "metadata": {},
   "source": [
    "Create a For Loop that prints every number from 1 to 6."
   ]
  },
  {
   "cell_type": "code",
   "execution_count": null,
   "metadata": {},
   "outputs": [],
   "source": []
  },
  {
   "cell_type": "markdown",
   "metadata": {},
   "source": [
    "## Q2) Basic While Loop"
   ]
  },
  {
   "cell_type": "markdown",
   "metadata": {},
   "source": [
    "Create a While Loop that prints out every number while i < 7"
   ]
  },
  {
   "cell_type": "code",
   "execution_count": null,
   "metadata": {},
   "outputs": [],
   "source": []
  },
  {
   "cell_type": "markdown",
   "metadata": {},
   "source": [
    "## Q6) More Complicated For Loop\n",
    "\n",
    "Create a For Loop that prints out the first 10 numbers in fibonacci sequence (excluding 0) as shown below. *Hint: You will either need to use np.append or set up an empty array to fill with fibonacci numbers to complete this.*"
   ]
  },
  {
   "cell_type": "code",
   "execution_count": 2,
   "metadata": {},
   "outputs": [
    {
     "name": "stdout",
     "output_type": "stream",
     "text": [
      "[ 1.  1.  2.  3.  5.  8. 13. 21. 34. 55.]\n"
     ]
    }
   ],
   "source": []
  },
  {
   "cell_type": "markdown",
   "metadata": {},
   "source": [
    "## Q7) More Complicated While Loop\n",
    "\n",
    "Create a While Loop that does the following: \n",
    "\n",
    "$$\n",
    "a = a + \\frac{1}{4} a\n",
    "$$\n",
    "until it is greater than b. Inside the loop, create a function that adds 10 to a if a = 0. Print the value that makes a greater than b. Make sure the correct answer matches the one listed below. "
   ]
  },
  {
   "cell_type": "code",
   "execution_count": 3,
   "metadata": {},
   "outputs": [
    {
     "name": "stdout",
     "output_type": "stream",
     "text": [
      "444.0892098500626\n"
     ]
    }
   ],
   "source": [
    "a = 0\n",
    "b = 400"
   ]
  },
  {
   "cell_type": "markdown",
   "metadata": {},
   "source": [
    "## Saving and Exporting\n",
    "\n",
    "Save your notebook, name the file, download as an HTML file, and turn it in on Canvas."
   ]
  }
 ],
 "metadata": {
  "kernelspec": {
   "display_name": "Python 3",
   "language": "python",
   "name": "python3"
  },
  "language_info": {
   "codemirror_mode": {
    "name": "ipython",
    "version": 3
   },
   "file_extension": ".py",
   "mimetype": "text/x-python",
   "name": "python",
   "nbconvert_exporter": "python",
   "pygments_lexer": "ipython3",
   "version": "3.7.1"
  }
 },
 "nbformat": 4,
 "nbformat_minor": 2
}
